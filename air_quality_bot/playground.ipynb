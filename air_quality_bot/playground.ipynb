{
 "cells": [
  {
   "cell_type": "code",
   "execution_count": 92,
   "metadata": {},
   "outputs": [
    {
     "name": "stdout",
     "output_type": "stream",
     "text": [
      "INFO:tensorflow:Restoring parameters from models/nlu-20200209-185009/nlu/component_6_EmbeddingIntentClassifier.ckpt\n"
     ]
    },
    {
     "name": "stderr",
     "output_type": "stream",
     "text": [
      "INFO:tensorflow:Restoring parameters from models/nlu-20200209-185009/nlu/component_6_EmbeddingIntentClassifier.ckpt\n"
     ]
    },
    {
     "data": {
      "text/plain": [
       "{'intent': {'name': 'air_quality_historical',\n",
       "  'confidence': 0.9964810609817505},\n",
       " 'entities': [{'start': 20,\n",
       "   'end': 25,\n",
       "   'value': ' good',\n",
       "   'entity': 'good',\n",
       "   'confidence': 0.5198660373982853,\n",
       "   'extractor': 'CRFEntityExtractor',\n",
       "   'processors': ['EntitySynonymMapper']},\n",
       "  {'start': 30,\n",
       "   'end': 34,\n",
       "   'value': 'last',\n",
       "   'entity': 'hierarchy_number',\n",
       "   'confidence': 0.963261152352626,\n",
       "   'extractor': 'CRFEntityExtractor'},\n",
       "  {'start': 35,\n",
       "   'end': 36,\n",
       "   'value': '2',\n",
       "   'entity': 'number',\n",
       "   'confidence': 0.9779956776019908,\n",
       "   'extractor': 'CRFEntityExtractor'},\n",
       "  {'start': 37,\n",
       "   'end': 42,\n",
       "   'value': 'weeks',\n",
       "   'entity': 'time_measures',\n",
       "   'confidence': 0.9833818456716202,\n",
       "   'extractor': 'CRFEntityExtractor'}],\n",
       " 'intent_ranking': [{'name': 'air_quality_historical',\n",
       "   'confidence': 0.9964810609817505},\n",
       "  {'name': 'deny', 'confidence': 0.0012664454989135265},\n",
       "  {'name': 'greet', 'confidence': 0.0006883703172206879},\n",
       "  {'name': 'affirm', 'confidence': 0.000519353081472218},\n",
       "  {'name': 'air_quality_today', 'confidence': 0.0005077457753941417},\n",
       "  {'name': 'air_quality_forecast', 'confidence': 0.0004929752321913838},\n",
       "  {'name': 'goodbye', 'confidence': 4.404576247907244e-05}],\n",
       " 'text': 'was the air quality great the last 2 weeks'}"
      ]
     },
     "execution_count": 92,
     "metadata": {},
     "output_type": "execute_result"
    }
   ],
   "source": [
    "from rasa.nlu.model import Interpreter, Metadata\n",
    "import pandas as pd\n",
    "import datetime\n",
    "import numpy as np\n",
    "import word2number\n",
    "\n",
    "DATASET_FILE_NAME = \"edi_air_quality.csv\"\n",
    "DATASET_PATH = f\"data/{DATASET_FILE_NAME}\"\n",
    "dataset = pd.read_csv(DATASET_PATH)\n",
    "\n",
    "for column in dataset.columns:\n",
    "    if column != \"date\":\n",
    "        dataset[column] = pd.to_numeric(dataset[column], errors='coerce')\n",
    "\n",
    "utterance = u\"was the air quality great the last 2 weeks\"\n",
    "model_name = \"nlu-20200209-185009\"\n",
    "dataset_name = \"nlu\"\n",
    "model = f\"models/{model_name}/{dataset_name}\"\n",
    "\n",
    "\n",
    "\n",
    "\n",
    "# loading the model from one directory or zip file\n",
    "interpreter = Interpreter.load(model)\n",
    "\n",
    "# parsing the utterance\n",
    "interpretation = interpreter.parse(utterance)\n",
    "\n",
    "# printing the parsed output\n",
    "interpretation"
   ]
  },
  {
   "cell_type": "code",
   "execution_count": 93,
   "metadata": {},
   "outputs": [],
   "source": [
    "def row_is_between_dates(row, low_date, up_date):\n",
    "\n",
    "    date_row = row[\"date\"].split(\"/\")\n",
    "    true_date_row = datetime.date(int(date_row[0]), int(date_row[1]), int(date_row[2]))\n",
    "    \n",
    "    return true_date_row <= up_date and true_date_row > low_date"
   ]
  },
  {
   "cell_type": "code",
   "execution_count": 94,
   "metadata": {},
   "outputs": [],
   "source": [
    "def get_response_from_rasa_interpretation(interpretation):\n",
    "    intent = interpretation['intent']['name']\n",
    "\n",
    "    returned_response = \"I did not get that. Could you repeat ?\"\n",
    "\n",
    "    if intent == \"air_quality_today\":\n",
    "        r = requests.get(url=API_URL)\n",
    "        response = r.json()\n",
    "        returned_response = f\"\"\"\n",
    "        Today's air is as follows:\n",
    "            - h: {response['data']['h']['v']}\n",
    "            - no2: {response['data']['no2']['v']}\n",
    "            - o3: {response['data']['o3']['v']}\n",
    "            - p: {response['data']['p']['v']}\n",
    "            - pm10: {response['data']['pm10']['v']}\n",
    "            - pm25: {response['data']['pm25']['v']}\n",
    "            - so2: {response['data']['so2']['v']}\n",
    "        \"\"\"\n",
    "        \n",
    "    elif intent == \"air_quality_historical\":\n",
    "        \n",
    "        returned_response = \"\"\n",
    "        \n",
    "        number = None\n",
    "        hierarchy_number = None\n",
    "        time_measures = None\n",
    "        for entity in interpretation['entities']:\n",
    "            \n",
    "            if entity[\"entity\"] == \"hierarchy_number\":\n",
    "                hierarchy_number = entity[\"value\"]\n",
    "                \n",
    "            elif entity[\"entity\"] == \"time_measures\":\n",
    "                time_measures = entity[\"value\"]\n",
    "                \n",
    "            elif entity[\"entity\"] == \"number\":\n",
    "                number = entity[\"value\"]\n",
    "        \n",
    "        if number is None and hierarchy_number is None and time_measures is None:\n",
    "            returned_response = \"Query not fully understood, returning last week data by default:\"\n",
    "            hierarchy_number = \"last\"\n",
    "            time_measures = \"week\"\n",
    "            \n",
    "        # count the number of unit of time measures\n",
    "        counter = 1\n",
    "        # convert the unit of time measures as days\n",
    "        time_measure_factor = 1\n",
    "        \n",
    "        if (time_measures[0:4] == \"week\"):\n",
    "            time_measure_factor = 7\n",
    "        elif (time_measures[0:5] == \"month\"):\n",
    "            time_measure_factor = 30\n",
    "        elif (time_measures[0:4] == \"year\"):\n",
    "            time_measure_factor = 365\n",
    "    \n",
    "        # e.g. last week\n",
    "        if (hierarchy_number == \"last\" and number is None):\n",
    "            counter = 1    \n",
    "        # e.g last 2 weeks\n",
    "        elif (hierarchy_number == \"last\" and number is not None):\n",
    "            try:\n",
    "                counter = int(number)\n",
    "            except:\n",
    "                counter = w2n.word_to_num(number)\n",
    "        elif (number is not None):\n",
    "            try:\n",
    "                counter = number\n",
    "            except:\n",
    "                counter = w2n.word_to_num(number)\n",
    "        # e.g one month ago (we then check the date one month ago and move 7 days ahead)\n",
    "        if (hierarchy_number != \"last\"):\n",
    "            \n",
    "            d_up = datetime.date.today() - datetime.timedelta(days=counter*time_measure_factor) + datetime.timedelta(days = 7)\n",
    "    \n",
    "        else:\n",
    "    \n",
    "            d_up = datetime.date.today() # to switch for interval of time\n",
    "        \n",
    "        d_down = d_up - datetime.timedelta(days=counter*time_measure_factor)\n",
    "        \n",
    "        rows_of_dataset = dataset[dataset.apply(lambda x: row_is_between_dates(x, low_date = d_down, up_date = d_up), axis=1)]\n",
    "        \n",
    "        returned_response+=f\"\"\"\n",
    "        \\n\n",
    "        Air quality of the last {counter*time_measure_factor} days was like this:\n",
    "        \n",
    "        \"\"\"\n",
    "        \n",
    "        for column in dataset.columns:\n",
    "            if column != \"date\":\n",
    "                returned_response += f\"\"\"\n",
    "                    - The average value of {column} is {dataset[column].mean()}\n",
    "                \"\"\"\n",
    "        \n",
    "    return returned_response"
   ]
  },
  {
   "cell_type": "code",
   "execution_count": 95,
   "metadata": {},
   "outputs": [
    {
     "data": {
      "text/plain": [
       "'\\n        \\n\\n        Air quality of the last 14 days was like this:\\n        \\n        \\n                    - The average value of  pm25 is 26.773117736230418\\n                \\n                    - The average value of  pm10 is 10.559270516717325\\n                \\n                    - The average value of  o3 is 21.895566502463055\\n                \\n                    - The average value of  no2 is 8.139246778989099\\n                \\n                    - The average value of  so2 is 3.616358839050132\\n                \\n                    - The average value of  co is 3.2099927588703836\\n                '"
      ]
     },
     "execution_count": 95,
     "metadata": {},
     "output_type": "execute_result"
    }
   ],
   "source": [
    "get_response_from_rasa_interpretation(interpretation)"
   ]
  },
  {
   "cell_type": "code",
   "execution_count": 91,
   "metadata": {},
   "outputs": [
    {
     "data": {
      "text/plain": [
       "datetime.datetime(2020, 2, 9, 21, 20, 44, 630955)"
      ]
     },
     "execution_count": 91,
     "metadata": {},
     "output_type": "execute_result"
    }
   ],
   "source": [
    "datetime.datetime.now()"
   ]
  }
 ],
 "metadata": {
  "kernelspec": {
   "display_name": "Python 3",
   "language": "python",
   "name": "python3"
  },
  "language_info": {
   "codemirror_mode": {
    "name": "ipython",
    "version": 3
   },
   "file_extension": ".py",
   "mimetype": "text/x-python",
   "name": "python",
   "nbconvert_exporter": "python",
   "pygments_lexer": "ipython3",
   "version": "3.6.10"
  }
 },
 "nbformat": 4,
 "nbformat_minor": 2
}
