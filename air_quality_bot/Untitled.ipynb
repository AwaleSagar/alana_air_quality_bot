{
 "cells": [
  {
   "cell_type": "code",
   "execution_count": 12,
   "metadata": {},
   "outputs": [
    {
     "name": "stdout",
     "output_type": "stream",
     "text": [
      "INFO:tensorflow:Restoring parameters from models/nlu-20200209-173958/nlu/component_6_EmbeddingIntentClassifier.ckpt\n"
     ]
    },
    {
     "name": "stderr",
     "output_type": "stream",
     "text": [
      "INFO:tensorflow:Restoring parameters from models/nlu-20200209-173958/nlu/component_6_EmbeddingIntentClassifier.ckpt\n"
     ]
    },
    {
     "name": "stdout",
     "output_type": "stream",
     "text": [
      "{'intent': {'name': 'air_quality_forecast', 'confidence': 0.9996784925460815}, 'entities': [{'start': 4, 'end': 9, 'value': ' good', 'entity': 'good', 'confidence': 0.9378221234077752, 'extractor': 'CRFEntityExtractor', 'processors': ['EntitySynonymMapper']}, {'start': 22, 'end': 26, 'value': 'next', 'entity': 'hierarchy_number', 'confidence': 0.9490355570533999, 'extractor': 'CRFEntityExtractor'}, {'start': 27, 'end': 31, 'value': 'week', 'entity': 'time_measures', 'confidence': 0.9900932491332243, 'extractor': 'CRFEntityExtractor'}], 'intent_ranking': [{'name': 'air_quality_forecast', 'confidence': 0.9996784925460815}, {'name': 'affirm', 'confidence': 0.00017090782057493925}, {'name': 'greet', 'confidence': 7.823342457413673e-05}, {'name': 'air_quality_today', 'confidence': 2.6928002625936642e-05}, {'name': 'goodbye', 'confidence': 2.424237936793361e-05}, {'name': 'air_quality_historical', 'confidence': 1.1324000297463499e-05}, {'name': 'deny', 'confidence': 9.856380529527087e-06}], 'text': 'how great will air be next week'}\n"
     ]
    }
   ],
   "source": [
    "from rasa.nlu.model import Interpreter, Metadata\n",
    "\n",
    "utterance = u\"how great will air be next week\"\n",
    "model_name = \"nlu-20200209-173958\"\n",
    "dataset_name = \"nlu\"\n",
    "model = f\"models/{model_name}/{dataset_name}\"\n",
    "\n",
    "\n",
    "\n",
    "\n",
    "# loading the model from one directory or zip file\n",
    "interpreter = Interpreter.load(model)\n",
    "\n",
    "# parsing the utterance\n",
    "interpretation = interpreter.parse(utterance)\n",
    "\n",
    "# printing the parsed output\n",
    "interpretation"
   ]
  },
  {
   "cell_type": "code",
   "execution_count": 13,
   "metadata": {},
   "outputs": [
    {
     "data": {
      "text/plain": [
       "{'intent': {'name': 'air_quality_forecast', 'confidence': 0.9996784925460815},\n",
       " 'entities': [{'start': 4,\n",
       "   'end': 9,\n",
       "   'value': ' good',\n",
       "   'entity': 'good',\n",
       "   'confidence': 0.9378221234077752,\n",
       "   'extractor': 'CRFEntityExtractor',\n",
       "   'processors': ['EntitySynonymMapper']},\n",
       "  {'start': 22,\n",
       "   'end': 26,\n",
       "   'value': 'next',\n",
       "   'entity': 'hierarchy_number',\n",
       "   'confidence': 0.9490355570533999,\n",
       "   'extractor': 'CRFEntityExtractor'},\n",
       "  {'start': 27,\n",
       "   'end': 31,\n",
       "   'value': 'week',\n",
       "   'entity': 'time_measures',\n",
       "   'confidence': 0.9900932491332243,\n",
       "   'extractor': 'CRFEntityExtractor'}],\n",
       " 'intent_ranking': [{'name': 'air_quality_forecast',\n",
       "   'confidence': 0.9996784925460815},\n",
       "  {'name': 'affirm', 'confidence': 0.00017090782057493925},\n",
       "  {'name': 'greet', 'confidence': 7.823342457413673e-05},\n",
       "  {'name': 'air_quality_today', 'confidence': 2.6928002625936642e-05},\n",
       "  {'name': 'goodbye', 'confidence': 2.424237936793361e-05},\n",
       "  {'name': 'air_quality_historical', 'confidence': 1.1324000297463499e-05},\n",
       "  {'name': 'deny', 'confidence': 9.856380529527087e-06}],\n",
       " 'text': 'how great will air be next week'}"
      ]
     },
     "execution_count": 13,
     "metadata": {},
     "output_type": "execute_result"
    }
   ],
   "source": [
    "interpretation"
   ]
  }
 ],
 "metadata": {
  "kernelspec": {
   "display_name": "Python 3",
   "language": "python",
   "name": "python3"
  },
  "language_info": {
   "codemirror_mode": {
    "name": "ipython",
    "version": 3
   },
   "file_extension": ".py",
   "mimetype": "text/x-python",
   "name": "python",
   "nbconvert_exporter": "python",
   "pygments_lexer": "ipython3",
   "version": "3.6.10"
  }
 },
 "nbformat": 4,
 "nbformat_minor": 2
}
